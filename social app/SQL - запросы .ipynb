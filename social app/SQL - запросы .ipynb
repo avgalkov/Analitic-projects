{
 "cells": [
  {
   "attachments": {},
   "cell_type": "markdown",
   "id": "84e0e77b",
   "metadata": {},
   "source": [
    "Определим кол-во активных пользователей приложения в различные временные интервалы и получим актуальные аудиторные данные."
   ]
  },
  {
   "cell_type": "code",
   "execution_count": null,
   "id": "9f8ef015",
   "metadata": {},
   "outputs": [],
   "source": [
    "# DAU\n",
    "\n",
    "SELECT toStartOfDay(toDateTime(time)) AS __timestamp,\n",
    "       count(DISTINCT user_id) AS \"COUNT_DISTINCT(user_id)\"\n",
    "FROM simulator_20221220.feed_actions\n",
    "WHERE time >= toDateTime('2022-12-01 00:00:00')\n",
    "  AND time < toDateTime('2023-01-01 00:00:00')\n",
    "GROUP BY toStartOfDay(toDateTime(time))\n",
    "ORDER BY \"COUNT_DISTINCT(user_id)\" DESC\n",
    "LIMIT 50000;"
   ]
  },
  {
   "cell_type": "code",
   "execution_count": null,
   "id": "9a74df9b",
   "metadata": {},
   "outputs": [],
   "source": [
    "# WAU\n",
    "    \n",
    "SELECT toMonday(toDateTime(time)) AS __timestamp,\n",
    "       count(DISTINCT user_id) AS \"COUNT_DISTINCT(user_id)\"\n",
    "FROM simulator_20221220.feed_actions\n",
    "WHERE time >= toDateTime('2022-12-01 00:00:00')\n",
    "  AND time < toDateTime('2023-01-01 00:00:00')\n",
    "GROUP BY toMonday(toDateTime(time))\n",
    "ORDER BY \"COUNT_DISTINCT(user_id)\" DESC\n",
    "LIMIT 50000;"
   ]
  },
  {
   "cell_type": "code",
   "execution_count": null,
   "id": "b3267b12",
   "metadata": {},
   "outputs": [],
   "source": [
    "# MAU :\n",
    "    \n",
    "SELECT toStartOfMonth(toDateTime(time)) AS __timestamp,\n",
    "       COUNT(DISTINCT user_id) AS \"Уникальные пользователи\"\n",
    "FROM simulator_20221220.feed_actions\n",
    "GROUP BY toStartOfMonth(toDateTime(time))\n",
    "ORDER BY \"Уникальные пользователи\" DESC\n",
    "LIMIT 50000;"
   ]
  },
  {
   "attachments": {},
   "cell_type": "markdown",
   "id": "d36f250f",
   "metadata": {},
   "source": [
    "Далее строим график по эволюции основных событий (в нашем случае - лайков и просмотров)"
   ]
  },
  {
   "cell_type": "code",
   "execution_count": null,
   "id": "c44596c2",
   "metadata": {},
   "outputs": [],
   "source": [
    "SELECT toStartOfDay(toDateTime(time)) AS __timestamp,\n",
    "       action AS action,\n",
    "       count(user_id) AS \"COUNT(user_id)\"\n",
    "FROM simulator_20221220.feed_actions\n",
    "WHERE time >= toDateTime('2022-12-01 00:00:00')\n",
    "  AND time < toDateTime('2023-01-01 00:00:00')\n",
    "GROUP BY action,\n",
    "         toStartOfDay(toDateTime(time))\n",
    "ORDER BY \"COUNT(user_id)\" DESC\n",
    "LIMIT 50000;"
   ]
  },
  {
   "cell_type": "markdown",
   "id": "517217c4",
   "metadata": {},
   "source": [
    "Строим график CTR"
   ]
  },
  {
   "cell_type": "code",
   "execution_count": null,
   "id": "8988778d",
   "metadata": {},
   "outputs": [],
   "source": [
    "SELECT toStartOfDay(toDateTime(time)) AS __timestamp,\n",
    "       countIf(user_id, action = 'like') / countIf(user_id, action = 'view') AS \"CTR\"\n",
    "FROM simulator_20221220.feed_actions\n",
    "WHERE time >= toDateTime('2022-12-01 00:00:00')\n",
    "  AND time < toDateTime('2023-01-01 00:00:00')\n",
    "GROUP BY toStartOfDay(toDateTime(time))\n",
    "ORDER BY \"CTR\" DESC\n",
    "LIMIT 50000;"
   ]
  },
  {
   "cell_type": "markdown",
   "id": "e7628a5f",
   "metadata": {},
   "source": [
    "Определим ТОП - 50 постов по количеству просмотров. \n",
    "Для каждого поста из ТОПа отразим дополнительно кол-во лайков, CTR и охват аудитории."
   ]
  },
  {
   "cell_type": "code",
   "execution_count": null,
   "id": "56b96312",
   "metadata": {},
   "outputs": [],
   "source": [
    "SELECT post_id AS post_id,\n",
    "       countIf(action = 'view') AS \"Просмотры\",\n",
    "       countIf(action = 'like') AS \"Лайки\",\n",
    "       countIf(action = 'like') / countIf(action = 'view') AS \"CTR\",\n",
    "       count(DISTINCT user_id) AS \"Охват\"\n",
    "FROM simulator_20221220.feed_actions\n",
    "GROUP BY post_id\n",
    "ORDER BY \"Просмотры\" DESC\n",
    "LIMIT 50;"
   ]
  },
  {
   "cell_type": "markdown",
   "id": "bdc58536",
   "metadata": {},
   "source": [
    "Так же на наш основной дашборд поместим фильтр по полу и операционной системе с возможностью выбора интервала времени."
   ]
  },
  {
   "attachments": {},
   "cell_type": "markdown",
   "id": "55ce2751",
   "metadata": {},
   "source": [
    "Дополнительно создадим еще один дашборд, на который разместим вспомогательную справочную информацию:\n",
    "\n",
    "Узнаем какое среднее число событий приходится на каждого уникального юзера нашего приложения за все время:\n",
    "    "
   ]
  },
  {
   "cell_type": "code",
   "execution_count": null,
   "id": "e5c13c05",
   "metadata": {},
   "outputs": [],
   "source": [
    "SELECT min(avg_actions) AS \"MIN(avg_actions)\"\n",
    "FROM\n",
    "  (select round(avg(actions_count), 2) as avg_actions\n",
    "   from\n",
    "     (SELECT count(action) as actions_count,\n",
    "             user_id\n",
    "      FROM simulator.feed_actions\n",
    "      group by user_id,\n",
    "               toDate(time)) t) AS virtual_table\n",
    "LIMIT 50000;"
   ]
  },
  {
   "cell_type": "markdown",
   "id": "5e7b5596",
   "metadata": {},
   "source": [
    "![](pics\\simulator\\среднее-кол-во-действий-пользователя-2023-01-06T10-46-44.612Z.jpg)"
   ]
  },
  {
   "cell_type": "markdown",
   "id": "61f72774",
   "metadata": {},
   "source": [
    "\n",
    "Определим локации самых активных юзеров:"
   ]
  },
  {
   "cell_type": "code",
   "execution_count": null,
   "id": "82dc15d4",
   "metadata": {},
   "outputs": [],
   "source": [
    "select\n",
    "  distinct t1.user_id,\n",
    "  actions_count,\n",
    "  country,\n",
    "  city\n",
    "from\n",
    "  (\n",
    "    SELECT\n",
    "      count(action) as actions_count,\n",
    "      user_id\n",
    "    FROM\n",
    "      simulator.feed_actions\n",
    "    group by\n",
    "      user_id\n",
    "    order by\n",
    "      actions_count desc\n",
    "    limit\n",
    "      50\n",
    "  ) t1\n",
    "  join (\n",
    "    select\n",
    "      user_id,\n",
    "      country,\n",
    "      city\n",
    "    from\n",
    "      feed_actions\n",
    "  ) t2 using(user_id)"
   ]
  },
  {
   "cell_type": "markdown",
   "id": "524d607b",
   "metadata": {},
   "source": [
    "![](pics\\simulator\\топ-50-активных-юзеров-2023-01-06T11-27-37.562Z.jpg)"
   ]
  },
  {
   "cell_type": "markdown",
   "id": "30bd9186",
   "metadata": {},
   "source": [
    "А так же составим список Топ-50 городов по числу событий:"
   ]
  },
  {
   "cell_type": "code",
   "execution_count": null,
   "id": "e284664f",
   "metadata": {},
   "outputs": [],
   "source": [
    "SELECT city AS city,\n",
    "       COUNT(action) AS \"События\",\n",
    "       COUNT(action) AS \"Доля %\"\n",
    "FROM simulator_20221220.feed_actions\n",
    "GROUP BY city\n",
    "ORDER BY \"Доля %\" DESC\n",
    "LIMIT 10000;"
   ]
  },
  {
   "cell_type": "markdown",
   "id": "57817988",
   "metadata": {},
   "source": [
    "![](pics\\simulator\\топ-городов-по-активности-2023-01-06T12-04-48.919Z.jpg)"
   ]
  },
  {
   "cell_type": "markdown",
   "id": "e5059316",
   "metadata": {},
   "source": [
    "Определим, как меняется активность наших пользователей в течение суток за последнюю неделю:"
   ]
  },
  {
   "cell_type": "code",
   "execution_count": null,
   "id": "d44fcc37",
   "metadata": {},
   "outputs": [],
   "source": [
    "SELECT toStartOfHour(toDateTime(time)) AS __timestamp,\n",
    "       action AS action,\n",
    "       count(action) AS \"COUNT(action)\"\n",
    "FROM simulator_20221220.feed_actions\n",
    "WHERE time >= toDateTime('2022-12-30 00:00:00')\n",
    "  AND time < toDateTime('2023-01-06 00:00:00')\n",
    "GROUP BY action,\n",
    "         toStartOfHour(toDateTime(time))\n",
    "ORDER BY \"COUNT(action)\" DESC\n",
    "LIMIT 50000;"
   ]
  },
  {
   "cell_type": "markdown",
   "id": "7a91145c",
   "metadata": {},
   "source": [
    "![](pics\\simulator\\дневная-активность-2023-01-06T12-19-46.140Z.jpg)"
   ]
  },
  {
   "cell_type": "markdown",
   "id": "e2846345",
   "metadata": {},
   "source": [
    "Из графика мы видим, что спад активности наблюдается в период с 3 до 4 часов ночи,\n",
    "а пики активности приходятся на вечернее время с 19 до 21 часов."
   ]
  },
  {
   "cell_type": "markdown",
   "id": "011f778d",
   "metadata": {},
   "source": [
    "Определим распределение наших пользователей по странам и выясним, в киких странах проживает наибольшее число юзеров:\n",
    "    "
   ]
  },
  {
   "cell_type": "code",
   "execution_count": null,
   "id": "b6d295ad",
   "metadata": {},
   "outputs": [],
   "source": [
    "SELECT country AS country,\n",
    "       count(DISTINCT user_id) AS \"COUNT_DISTINCT(user_id)\"\n",
    "FROM simulator_20221220.feed_actions\n",
    "GROUP BY country\n",
    "ORDER BY \"COUNT_DISTINCT(user_id)\" DESC\n",
    "LIMIT 50;"
   ]
  },
  {
   "cell_type": "markdown",
   "id": "4a6cb05c",
   "metadata": {},
   "source": [
    "![](pics\\simulator\\география-юзеров-2023-01-06T14-05-28.894Z.jpg)"
   ]
  },
  {
   "cell_type": "markdown",
   "id": "328f0c1c",
   "metadata": {},
   "source": [
    "В конечном итоге собираем наши вспомогательные метрики воедино и получаем вот такой дашборд с дополнительными показателямиЖ"
   ]
  },
  {
   "cell_type": "markdown",
   "id": "46699510",
   "metadata": {},
   "source": [
    "![](pics\\simulator\\Лента_доп.png)"
   ]
  },
  {
   "cell_type": "markdown",
   "id": "17657402",
   "metadata": {},
   "source": [
    " Создадим еще один дошборд с опреативными данными, чтобы иметь возможность наблюдать и сравнивать  \n",
    " текущие данные с какими-то периодами в прошлом, тем самым выявляя тенденции или аномалии.\n",
    "\n"
   ]
  },
  {
   "cell_type": "markdown",
   "id": "9415c58a",
   "metadata": {},
   "source": [
    "Отобразим кол-во событий сегодня, вчера и неделю назад. В каестве временной шкалы зададим период в 15 минут:"
   ]
  },
  {
   "cell_type": "code",
   "execution_count": null,
   "id": "7784eee2",
   "metadata": {},
   "outputs": [],
   "source": [
    "SELECT toDateTime(intDiv(toUInt32(toDateTime(time)), 900)*900) AS __timestamp,\n",
    "       COUNT(user_id) AS \"События\"\n",
    "FROM simulator_20221220.feed_actions\n",
    "WHERE time >= toDateTime('2023-01-06 00:00:00')\n",
    "  AND time < toDateTime('2023-01-07 00:00:00')\n",
    "GROUP BY toDateTime(intDiv(toUInt32(toDateTime(time)), 900)*900)\n",
    "ORDER BY \"События\" DESC\n",
    "LIMIT 50000;"
   ]
  },
  {
   "cell_type": "markdown",
   "id": "945109f5",
   "metadata": {},
   "source": [
    "![](pics\\simulator\\все-события-2023-01-06T14-31-38.908Z.jpg)"
   ]
  },
  {
   "cell_type": "markdown",
   "id": "f135c3f4",
   "metadata": {},
   "source": [
    "Свал графика с текущими показателями обусловлен тем, что за настоящий период еще не все данные доступны для обработки.\n",
    "На графике видно, что кол-во событий растет, что логично, так как график DAU из основного \n",
    "дашборда ленты новостей  демонстрировал нам рост кол-ва активных пользователей нашего приложения."
   ]
  },
  {
   "cell_type": "markdown",
   "id": "bf187801",
   "metadata": {},
   "source": [
    " На дополнительный дашборд разместим некоторые продуктовые метрики по аудитории для углубленного анализа"
   ]
  },
  {
   "cell_type": "markdown",
   "id": "2290d8e9",
   "metadata": {},
   "source": [
    "Посмотрим какое количество пользователей из числа тех, кто начал пользоваться нашим продуктом в последние 20 дней, \n",
    "продолжаеют им пользоваться, иными словами, посмотрим как новые пользователи удерживаются нашим приложением, \n",
    "для этого визуализируем график Retention."
   ]
  },
  {
   "cell_type": "code",
   "execution_count": null,
   "id": "49036f72",
   "metadata": {},
   "outputs": [],
   "source": [
    "SELECT date AS date,\n",
    "       start_date AS start_date,\n",
    "       max(active_users) AS \"MAX(active_users)\"\n",
    "FROM\n",
    "  (select toString(date) as date,\n",
    "          toString(start_date) as start_date,\n",
    "          count(user_id) as active_users\n",
    "   from\n",
    "     (select user_id,\n",
    "             min(toDate(time)) as start_date\n",
    "      from simulator_20221220.feed_actions\n",
    "      group by user_id\n",
    "      having start_date >= today() - 20) t1\n",
    "   join\n",
    "     (select distinct user_id,\n",
    "                      toDate(time) as date\n",
    "      from simulator_20221220.feed_actions) t2 using(user_id)\n",
    "   group by date, start_date) AS virtual_table\n",
    "GROUP BY date, start_date\n",
    "LIMIT 1000;"
   ]
  },
  {
   "attachments": {},
   "cell_type": "markdown",
   "id": "d1bfe00e",
   "metadata": {},
   "source": [
    "Все графики и скриншоты дашбордов для вышенаписанных запросов находятся в папке visalizations"
   ]
  }
 ],
 "metadata": {
  "kernelspec": {
   "display_name": "Python 3",
   "language": "python",
   "name": "python3"
  },
  "language_info": {
   "codemirror_mode": {
    "name": "ipython",
    "version": 3
   },
   "file_extension": ".py",
   "mimetype": "text/x-python",
   "name": "python",
   "nbconvert_exporter": "python",
   "pygments_lexer": "ipython3",
   "version": "3.11.0"
  },
  "vscode": {
   "interpreter": {
    "hash": "5d89a54a19c35198fab264fadf23b5d94cbe533ad279e702f7e8f34e48ccaafe"
   }
  }
 },
 "nbformat": 4,
 "nbformat_minor": 5
}
