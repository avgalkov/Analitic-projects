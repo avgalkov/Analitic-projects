{
 "cells": [
  {
   "cell_type": "code",
   "execution_count": 85,
   "id": "26c8a617",
   "metadata": {},
   "outputs": [],
   "source": [
    "# импорт библиотек\n",
    "\n",
    "import pandas as pd\n",
    "import numpy as np\n",
    "import sqlite3\n",
    "import seaborn as sns\n",
    "import matplotlib.pyplot as plt\n",
    "\n",
    "plt.style.use('ggplot')\n",
    "plt.rcParams[\"figure.figsize\"] = [16, 7]"
   ]
  },
  {
   "cell_type": "markdown",
   "id": "4ba2636c",
   "metadata": {},
   "source": [
    "# Шаг 1. Подготовка данных"
   ]
  },
  {
   "cell_type": "markdown",
   "id": "f20bdfaa",
   "metadata": {},
   "source": [
    "*Создал табличку в гугле, создаю подключение*\n",
    "\n",
    "https://docs.google.com/spreadsheets/d/1IEwr-Bdh72S3_IwRzFwHr8PxSx_Gx3uhp44yYMhpKgQ/edit?usp=sharing"
   ]
  },
  {
   "cell_type": "code",
   "execution_count": 86,
   "id": "8bd1bbf5",
   "metadata": {},
   "outputs": [],
   "source": [
    "con = sqlite3.connect('db')"
   ]
  },
  {
   "cell_type": "code",
   "execution_count": 87,
   "id": "55cbdc41",
   "metadata": {},
   "outputs": [],
   "source": [
    "id = '1IEwr-Bdh72S3_IwRzFwHr8PxSx_Gx3uhp44yYMhpKgQ'"
   ]
  },
  {
   "cell_type": "code",
   "execution_count": 88,
   "id": "cc2de47e",
   "metadata": {},
   "outputs": [],
   "source": [
    "# Читаем данные"
   ]
  },
  {
   "cell_type": "code",
   "execution_count": 89,
   "id": "15a59b93",
   "metadata": {},
   "outputs": [],
   "source": [
    "df = pd.read_csv(f'https://docs.google.com/spreadsheets/d/{id}/export?format=csv')"
   ]
  },
  {
   "cell_type": "code",
   "execution_count": 90,
   "id": "ffee56fe",
   "metadata": {},
   "outputs": [
    {
     "data": {
      "text/html": [
       "<div>\n",
       "<style scoped>\n",
       "    .dataframe tbody tr th:only-of-type {\n",
       "        vertical-align: middle;\n",
       "    }\n",
       "\n",
       "    .dataframe tbody tr th {\n",
       "        vertical-align: top;\n",
       "    }\n",
       "\n",
       "    .dataframe thead th {\n",
       "        text-align: right;\n",
       "    }\n",
       "</style>\n",
       "<table border=\"1\" class=\"dataframe\">\n",
       "  <thead>\n",
       "    <tr style=\"text-align: right;\">\n",
       "      <th></th>\n",
       "      <th>adv_name</th>\n",
       "      <th>sale</th>\n",
       "      <th>view_count</th>\n",
       "      <th>click_count</th>\n",
       "      <th>first_month_clients_count</th>\n",
       "      <th>second_month_clients_count</th>\n",
       "      <th>third_month_clients_count</th>\n",
       "      <th>first_month_orders_count</th>\n",
       "      <th>first_month_aov</th>\n",
       "      <th>second_month_aov</th>\n",
       "      <th>third_month_aov</th>\n",
       "    </tr>\n",
       "  </thead>\n",
       "  <tbody>\n",
       "    <tr>\n",
       "      <th>0</th>\n",
       "      <td>А_android</td>\n",
       "      <td>500</td>\n",
       "      <td>3000000</td>\n",
       "      <td>25130</td>\n",
       "      <td>1560</td>\n",
       "      <td>374</td>\n",
       "      <td>78</td>\n",
       "      <td>345</td>\n",
       "      <td>8425</td>\n",
       "      <td>4212,5</td>\n",
       "      <td>4212,5</td>\n",
       "    </tr>\n",
       "    <tr>\n",
       "      <th>1</th>\n",
       "      <td>Б_iphone</td>\n",
       "      <td>800</td>\n",
       "      <td>3000000</td>\n",
       "      <td>23750</td>\n",
       "      <td>1345</td>\n",
       "      <td>94</td>\n",
       "      <td>27</td>\n",
       "      <td>285</td>\n",
       "      <td>10875</td>\n",
       "      <td>5437,5</td>\n",
       "      <td>5437,5</td>\n",
       "    </tr>\n",
       "  </tbody>\n",
       "</table>\n",
       "</div>"
      ],
      "text/plain": [
       "    adv_name  sale  view_count  click_count  first_month_clients_count  \\\n",
       "0  А_android   500     3000000        25130                       1560   \n",
       "1   Б_iphone   800     3000000        23750                       1345   \n",
       "\n",
       "   second_month_clients_count  third_month_clients_count  \\\n",
       "0                         374                         78   \n",
       "1                          94                         27   \n",
       "\n",
       "   first_month_orders_count  first_month_aov second_month_aov third_month_aov  \n",
       "0                       345             8425           4212,5          4212,5  \n",
       "1                       285            10875           5437,5          5437,5  "
      ]
     },
     "execution_count": 90,
     "metadata": {},
     "output_type": "execute_result"
    }
   ],
   "source": [
    "df"
   ]
  },
  {
   "cell_type": "code",
   "execution_count": 91,
   "id": "eff1b3d2",
   "metadata": {},
   "outputs": [
    {
     "data": {
      "text/plain": [
       "adv_name                      object\n",
       "sale                           int64\n",
       "view_count                     int64\n",
       "click_count                    int64\n",
       "first_month_clients_count      int64\n",
       "second_month_clients_count     int64\n",
       "third_month_clients_count      int64\n",
       "first_month_orders_count       int64\n",
       "first_month_aov                int64\n",
       "second_month_aov              object\n",
       "third_month_aov               object\n",
       "dtype: object"
      ]
     },
     "execution_count": 91,
     "metadata": {},
     "output_type": "execute_result"
    }
   ],
   "source": [
    "df.dtypes"
   ]
  },
  {
   "cell_type": "code",
   "execution_count": 92,
   "id": "1b20b295",
   "metadata": {},
   "outputs": [
    {
     "data": {
      "text/plain": [
       "2"
      ]
     },
     "execution_count": 92,
     "metadata": {},
     "output_type": "execute_result"
    }
   ],
   "source": [
    "df.to_sql('test',con,index=False,if_exists='replace')"
   ]
  },
  {
   "cell_type": "code",
   "execution_count": 93,
   "id": "2327bc8b",
   "metadata": {},
   "outputs": [],
   "source": [
    "def select(sql):\n",
    "    return pd.read_sql(sql,con)"
   ]
  },
  {
   "cell_type": "code",
   "execution_count": 94,
   "id": "b5791ca5",
   "metadata": {
    "scrolled": true
   },
   "outputs": [
    {
     "data": {
      "text/html": [
       "<div>\n",
       "<style scoped>\n",
       "    .dataframe tbody tr th:only-of-type {\n",
       "        vertical-align: middle;\n",
       "    }\n",
       "\n",
       "    .dataframe tbody tr th {\n",
       "        vertical-align: top;\n",
       "    }\n",
       "\n",
       "    .dataframe thead th {\n",
       "        text-align: right;\n",
       "    }\n",
       "</style>\n",
       "<table border=\"1\" class=\"dataframe\">\n",
       "  <thead>\n",
       "    <tr style=\"text-align: right;\">\n",
       "      <th></th>\n",
       "      <th>adv_name</th>\n",
       "      <th>sale</th>\n",
       "      <th>view_count</th>\n",
       "      <th>click_count</th>\n",
       "      <th>first_month_clients_count</th>\n",
       "      <th>second_month_clients_count</th>\n",
       "      <th>third_month_clients_count</th>\n",
       "      <th>first_month_orders_count</th>\n",
       "      <th>first_month_aov</th>\n",
       "      <th>second_month_aov</th>\n",
       "      <th>third_month_aov</th>\n",
       "    </tr>\n",
       "  </thead>\n",
       "  <tbody>\n",
       "    <tr>\n",
       "      <th>0</th>\n",
       "      <td>А_android</td>\n",
       "      <td>500</td>\n",
       "      <td>3000000</td>\n",
       "      <td>25130</td>\n",
       "      <td>1560</td>\n",
       "      <td>374</td>\n",
       "      <td>78</td>\n",
       "      <td>345</td>\n",
       "      <td>8425</td>\n",
       "      <td>4212,5</td>\n",
       "      <td>4212,5</td>\n",
       "    </tr>\n",
       "    <tr>\n",
       "      <th>1</th>\n",
       "      <td>Б_iphone</td>\n",
       "      <td>800</td>\n",
       "      <td>3000000</td>\n",
       "      <td>23750</td>\n",
       "      <td>1345</td>\n",
       "      <td>94</td>\n",
       "      <td>27</td>\n",
       "      <td>285</td>\n",
       "      <td>10875</td>\n",
       "      <td>5437,5</td>\n",
       "      <td>5437,5</td>\n",
       "    </tr>\n",
       "  </tbody>\n",
       "</table>\n",
       "</div>"
      ],
      "text/plain": [
       "    adv_name  sale  view_count  click_count  first_month_clients_count  \\\n",
       "0  А_android   500     3000000        25130                       1560   \n",
       "1   Б_iphone   800     3000000        23750                       1345   \n",
       "\n",
       "   second_month_clients_count  third_month_clients_count  \\\n",
       "0                         374                         78   \n",
       "1                          94                         27   \n",
       "\n",
       "   first_month_orders_count  first_month_aov second_month_aov third_month_aov  \n",
       "0                       345             8425           4212,5          4212,5  \n",
       "1                       285            10875           5437,5          5437,5  "
      ]
     },
     "execution_count": 94,
     "metadata": {},
     "output_type": "execute_result"
    }
   ],
   "source": [
    "sql = '''\n",
    "    select *\n",
    "    from test\n",
    "    '''\n",
    "select(sql)"
   ]
  },
  {
   "cell_type": "markdown",
   "id": "9821aead",
   "metadata": {},
   "source": [
    "# Для анализа буду использовать pandas, хотя все то же самое могу сделать и через встроенный sqlite3 или создать БД на postgres, подключиться к ней и селектить так же в юпитере"
   ]
  },
  {
   "cell_type": "markdown",
   "id": "2becb6b2",
   "metadata": {},
   "source": [
    "# Шаг 2. Постановка задачи"
   ]
  },
  {
   "cell_type": "markdown",
   "id": "c6271b13",
   "metadata": {},
   "source": [
    "### Analysis directions:\n",
    "\n",
    "1. Какой вариант баннера оказался лучше в первый месяц?\n",
    "2. Какие метрики показывают это?\n",
    "3. Подтвердилась ли гипотеза, что повышенная скидка на первый заказ для пользователей iPhone принесет больше продаж по результатам первого месяца?\n",
    "4. Какая когорта клиентов, установивших приложение в первый месяц, более ценная для маркетплейса по результатам трех месяцев - это клиенты с  iPhone или с Android?\n"
   ]
  },
  {
   "cell_type": "markdown",
   "id": "82dab232",
   "metadata": {},
   "source": [
    "* Когорта А_android, рекламная компания для пользователей Google play\n",
    "* Когорта Б_iphone, рекламная компания для пользователей App Store"
   ]
  },
  {
   "cell_type": "markdown",
   "id": "9ad5004a",
   "metadata": {},
   "source": [
    "# Шаг 3. Анализ"
   ]
  },
  {
   "cell_type": "code",
   "execution_count": 95,
   "id": "30c0b13f",
   "metadata": {},
   "outputs": [],
   "source": [
    "# 1. Какой вариант баннера оказался лучше в первый месяц?\n",
    "# 2. Какие метрики показывают это?"
   ]
  },
  {
   "cell_type": "markdown",
   "id": "3f10d202",
   "metadata": {},
   "source": [
    "Основные метрики для рекламных компаний: CR, CTR, CPC, CPA, CPL, CAC. Рассчитаем некоторые из них:"
   ]
  },
  {
   "cell_type": "code",
   "execution_count": 96,
   "id": "ca74012f",
   "metadata": {
    "scrolled": true
   },
   "outputs": [
    {
     "data": {
      "text/html": [
       "<div>\n",
       "<style scoped>\n",
       "    .dataframe tbody tr th:only-of-type {\n",
       "        vertical-align: middle;\n",
       "    }\n",
       "\n",
       "    .dataframe tbody tr th {\n",
       "        vertical-align: top;\n",
       "    }\n",
       "\n",
       "    .dataframe thead th {\n",
       "        text-align: right;\n",
       "    }\n",
       "</style>\n",
       "<table border=\"1\" class=\"dataframe\">\n",
       "  <thead>\n",
       "    <tr style=\"text-align: right;\">\n",
       "      <th></th>\n",
       "      <th>adv_name</th>\n",
       "      <th>sale</th>\n",
       "      <th>view_count</th>\n",
       "      <th>click_count</th>\n",
       "      <th>first_month_clients_count</th>\n",
       "      <th>second_month_clients_count</th>\n",
       "      <th>third_month_clients_count</th>\n",
       "      <th>first_month_orders_count</th>\n",
       "      <th>first_month_aov</th>\n",
       "      <th>second_month_aov</th>\n",
       "      <th>third_month_aov</th>\n",
       "      <th>first_month_ctr</th>\n",
       "      <th>first_month_cr</th>\n",
       "    </tr>\n",
       "  </thead>\n",
       "  <tbody>\n",
       "    <tr>\n",
       "      <th>0</th>\n",
       "      <td>А_android</td>\n",
       "      <td>500</td>\n",
       "      <td>3000000</td>\n",
       "      <td>25130</td>\n",
       "      <td>1560</td>\n",
       "      <td>374</td>\n",
       "      <td>78</td>\n",
       "      <td>345</td>\n",
       "      <td>8425</td>\n",
       "      <td>4212,5</td>\n",
       "      <td>4212,5</td>\n",
       "      <td>0.837667</td>\n",
       "      <td>1.372861</td>\n",
       "    </tr>\n",
       "    <tr>\n",
       "      <th>1</th>\n",
       "      <td>Б_iphone</td>\n",
       "      <td>800</td>\n",
       "      <td>3000000</td>\n",
       "      <td>23750</td>\n",
       "      <td>1345</td>\n",
       "      <td>94</td>\n",
       "      <td>27</td>\n",
       "      <td>285</td>\n",
       "      <td>10875</td>\n",
       "      <td>5437,5</td>\n",
       "      <td>5437,5</td>\n",
       "      <td>0.791667</td>\n",
       "      <td>1.200000</td>\n",
       "    </tr>\n",
       "  </tbody>\n",
       "</table>\n",
       "</div>"
      ],
      "text/plain": [
       "    adv_name  sale  view_count  click_count  first_month_clients_count  \\\n",
       "0  А_android   500     3000000        25130                       1560   \n",
       "1   Б_iphone   800     3000000        23750                       1345   \n",
       "\n",
       "   second_month_clients_count  third_month_clients_count  \\\n",
       "0                         374                         78   \n",
       "1                          94                         27   \n",
       "\n",
       "   first_month_orders_count  first_month_aov second_month_aov third_month_aov  \\\n",
       "0                       345             8425           4212,5          4212,5   \n",
       "1                       285            10875           5437,5          5437,5   \n",
       "\n",
       "   first_month_ctr  first_month_cr  \n",
       "0         0.837667        1.372861  \n",
       "1         0.791667        1.200000  "
      ]
     },
     "execution_count": 96,
     "metadata": {},
     "output_type": "execute_result"
    }
   ],
   "source": [
    "# first month CTR and click-to-order CR\n",
    "\n",
    "df = df.assign(first_month_ctr = df.click_count / df.view_count * 100)\n",
    "df = df.assign(first_month_cr = df.first_month_orders_count / df.click_count * 100)\n",
    "df"
   ]
  },
  {
   "cell_type": "code",
   "execution_count": 97,
   "id": "98fe7a17",
   "metadata": {
    "scrolled": true
   },
   "outputs": [
    {
     "data": {
      "text/html": [
       "<div>\n",
       "<style scoped>\n",
       "    .dataframe tbody tr th:only-of-type {\n",
       "        vertical-align: middle;\n",
       "    }\n",
       "\n",
       "    .dataframe tbody tr th {\n",
       "        vertical-align: top;\n",
       "    }\n",
       "\n",
       "    .dataframe thead th {\n",
       "        text-align: right;\n",
       "    }\n",
       "</style>\n",
       "<table border=\"1\" class=\"dataframe\">\n",
       "  <thead>\n",
       "    <tr style=\"text-align: right;\">\n",
       "      <th></th>\n",
       "      <th>adv_name</th>\n",
       "      <th>first_month_ctr</th>\n",
       "      <th>first_month_cr</th>\n",
       "    </tr>\n",
       "  </thead>\n",
       "  <tbody>\n",
       "    <tr>\n",
       "      <th>0</th>\n",
       "      <td>А_android</td>\n",
       "      <td>0.837667</td>\n",
       "      <td>1.372861</td>\n",
       "    </tr>\n",
       "    <tr>\n",
       "      <th>1</th>\n",
       "      <td>Б_iphone</td>\n",
       "      <td>0.791667</td>\n",
       "      <td>1.200000</td>\n",
       "    </tr>\n",
       "  </tbody>\n",
       "</table>\n",
       "</div>"
      ],
      "text/plain": [
       "    adv_name  first_month_ctr  first_month_cr\n",
       "0  А_android         0.837667        1.372861\n",
       "1   Б_iphone         0.791667        1.200000"
      ]
     },
     "execution_count": 97,
     "metadata": {},
     "output_type": "execute_result"
    }
   ],
   "source": [
    "ctr_cr_data = df[['adv_name','first_month_ctr','first_month_cr']]\n",
    "ctr_cr_data"
   ]
  },
  {
   "cell_type": "code",
   "execution_count": 98,
   "id": "fbc5ed20",
   "metadata": {
    "scrolled": false
   },
   "outputs": [
    {
     "data": {
      "image/png": "[encoded data removed]",
      "text/plain": [
       "<Figure size 1600x700 with 1 Axes>"
      ]
     },
     "metadata": {},
     "output_type": "display_data"
    }
   ],
   "source": [
    "ctr_cr_data.set_index('adv_name') \\\n",
    "    .plot(kind='bar', title = 'CR и CTR  в первый месяц\\n')\n",
    "plt.ylabel(\"%\")\n",
    "plt.xlabel(\"Когорта\")\n",
    "plt.xticks(rotation=0)\n",
    "plt.show()"
   ]
  },
  {
   "cell_type": "code",
   "execution_count": 99,
   "id": "a6acbbfc",
   "metadata": {},
   "outputs": [],
   "source": [
    "# CTR и конверсия из клика в заказ когорты A в первый месяц выше. \n",
    "# Теперь оценим суммарный доход за первый месяц.\n"
   ]
  },
  {
   "cell_type": "code",
   "execution_count": 100,
   "id": "8367a90a",
   "metadata": {
    "scrolled": true
   },
   "outputs": [
    {
     "data": {
      "text/html": [
       "<div>\n",
       "<style scoped>\n",
       "    .dataframe tbody tr th:only-of-type {\n",
       "        vertical-align: middle;\n",
       "    }\n",
       "\n",
       "    .dataframe tbody tr th {\n",
       "        vertical-align: top;\n",
       "    }\n",
       "\n",
       "    .dataframe thead th {\n",
       "        text-align: right;\n",
       "    }\n",
       "</style>\n",
       "<table border=\"1\" class=\"dataframe\">\n",
       "  <thead>\n",
       "    <tr style=\"text-align: right;\">\n",
       "      <th></th>\n",
       "      <th>adv_name</th>\n",
       "      <th>first_month_revenue</th>\n",
       "    </tr>\n",
       "  </thead>\n",
       "  <tbody>\n",
       "    <tr>\n",
       "      <th>0</th>\n",
       "      <td>А_android</td>\n",
       "      <td>2734125</td>\n",
       "    </tr>\n",
       "    <tr>\n",
       "      <th>1</th>\n",
       "      <td>Б_iphone</td>\n",
       "      <td>2871375</td>\n",
       "    </tr>\n",
       "  </tbody>\n",
       "</table>\n",
       "</div>"
      ],
      "text/plain": [
       "    adv_name  first_month_revenue\n",
       "0  А_android              2734125\n",
       "1   Б_iphone              2871375"
      ]
     },
     "execution_count": 100,
     "metadata": {},
     "output_type": "execute_result"
    }
   ],
   "source": [
    "df = df.assign(first_month_revenue = df.first_month_orders_count * (df.first_month_aov - df.sale))\n",
    "df[['adv_name','first_month_revenue']]"
   ]
  },
  {
   "cell_type": "code",
   "execution_count": 101,
   "id": "bea3baf5",
   "metadata": {
    "scrolled": false
   },
   "outputs": [
    {
     "data": {
      "image/png": "[encoded data removed]",
      "text/plain": [
       "<Figure size 1600x700 with 1 Axes>"
      ]
     },
     "metadata": {},
     "output_type": "display_data"
    }
   ],
   "source": [
    "ax = df[['adv_name','first_month_revenue']].set_index('adv_name') \\\n",
    "    .plot(kind='bar', title = 'Доход за первый месяц\\n',legend=False)\n",
    "plt.ylabel(\"млн. руб.\")\n",
    "plt.xlabel(\"Когорта\")\n",
    "plt.xticks(rotation=0)\n",
    "plt.show()"
   ]
  },
  {
   "cell_type": "markdown",
   "id": "92bfd868",
   "metadata": {},
   "source": [
    "#### Наблюдения :\n",
    "* Когорта А имеет лучший CTR\n",
    "* Когорта А имеет лучший показатель конверсии из клика в установку приложения, из клика в заказ\n",
    "* Когорта Б принесла больший доход\n",
    "* При допущении, что стоимость размещения баннеров для обеих когорт была одинаковой, Когорта Б имеет меньшую стоиомсть клика\n",
    " "
   ]
  },
  {
   "cell_type": "code",
   "execution_count": 102,
   "id": "219dce1b",
   "metadata": {},
   "outputs": [],
   "source": [
    "# Какая когорта клиентов, установивших приложение в первый месяц, более ценная для маркетплейса\n",
    "# по результатам трех месяцев - это клиенты с iPhone или с Android?\n"
   ]
  },
  {
   "cell_type": "markdown",
   "id": "79cbb9eb",
   "metadata": {},
   "source": [
    "##### Оценим суммарный доход от когорт за 3 месяца.\n",
    "\n",
    "Учтем скидку за первый заказ при подсчете дохода за первый месяц и дальнейшее снижение среднего чека во 2 и 3 месяцы, а так же то, что нам известно, что конверсия вернувшихся в приложение пользователей осталась стабильной \n",
    "\n",
    "- рассчитаем предполагаемое кол-во заказов для 2 и 3 месяца по нашим когортам"
   ]
  },
  {
   "cell_type": "code",
   "execution_count": 103,
   "id": "d2e35ed3",
   "metadata": {
    "scrolled": true
   },
   "outputs": [
    {
     "data": {
      "text/html": [
       "<div>\n",
       "<style scoped>\n",
       "    .dataframe tbody tr th:only-of-type {\n",
       "        vertical-align: middle;\n",
       "    }\n",
       "\n",
       "    .dataframe tbody tr th {\n",
       "        vertical-align: top;\n",
       "    }\n",
       "\n",
       "    .dataframe thead th {\n",
       "        text-align: right;\n",
       "    }\n",
       "</style>\n",
       "<table border=\"1\" class=\"dataframe\">\n",
       "  <thead>\n",
       "    <tr style=\"text-align: right;\">\n",
       "      <th></th>\n",
       "      <th>first_month_clients_count</th>\n",
       "      <th>second_month_clients_count</th>\n",
       "      <th>third_month_clients_count</th>\n",
       "    </tr>\n",
       "    <tr>\n",
       "      <th>adv_name</th>\n",
       "      <th></th>\n",
       "      <th></th>\n",
       "      <th></th>\n",
       "    </tr>\n",
       "  </thead>\n",
       "  <tbody>\n",
       "    <tr>\n",
       "      <th>А_android</th>\n",
       "      <td>1560</td>\n",
       "      <td>374</td>\n",
       "      <td>78</td>\n",
       "    </tr>\n",
       "    <tr>\n",
       "      <th>Б_iphone</th>\n",
       "      <td>1345</td>\n",
       "      <td>94</td>\n",
       "      <td>27</td>\n",
       "    </tr>\n",
       "  </tbody>\n",
       "</table>\n",
       "</div>"
      ],
      "text/plain": [
       "           first_month_clients_count  second_month_clients_count  \\\n",
       "adv_name                                                           \n",
       "А_android                       1560                         374   \n",
       "Б_iphone                        1345                          94   \n",
       "\n",
       "           third_month_clients_count  \n",
       "adv_name                              \n",
       "А_android                         78  \n",
       "Б_iphone                          27  "
      ]
     },
     "execution_count": 103,
     "metadata": {},
     "output_type": "execute_result"
    }
   ],
   "source": [
    "df = df \\\n",
    "    .assign(second_month_orders_count = \\\n",
    "    (df.second_month_clients_count * (df.first_month_orders_count / df.first_month_clients_count))) \\\n",
    "    .round()\n",
    "df = df \\\n",
    "    .assign(third_month_orders_count = \\\n",
    "    (df.third_month_clients_count * (df.first_month_orders_count / df.first_month_clients_count))) \\\n",
    "    .round()\n",
    "df[['adv_name','first_month_clients_count','second_month_clients_count','third_month_clients_count']].set_index('adv_name')"
   ]
  },
  {
   "cell_type": "code",
   "execution_count": 104,
   "id": "8e68f8d5",
   "metadata": {},
   "outputs": [],
   "source": [
    "# заменим запятые в колонках со средним чеком за 2 и 3 месяц на точки"
   ]
  },
  {
   "cell_type": "code",
   "execution_count": 105,
   "id": "a18264f6",
   "metadata": {},
   "outputs": [],
   "source": [
    "df.second_month_aov = df.second_month_aov.str.replace(',','.')\n",
    "df.third_month_aov = df.third_month_aov.str.replace(',','.')\n",
    "df.second_month_aov = pd.to_numeric(df.second_month_aov)\n",
    "df.third_month_aov = pd.to_numeric(df.third_month_aov)"
   ]
  },
  {
   "cell_type": "code",
   "execution_count": 59,
   "id": "a11ce02d",
   "metadata": {
    "scrolled": true
   },
   "outputs": [
    {
     "data": {
      "text/html": [
       "<div>\n",
       "<style scoped>\n",
       "    .dataframe tbody tr th:only-of-type {\n",
       "        vertical-align: middle;\n",
       "    }\n",
       "\n",
       "    .dataframe tbody tr th {\n",
       "        vertical-align: top;\n",
       "    }\n",
       "\n",
       "    .dataframe thead th {\n",
       "        text-align: right;\n",
       "    }\n",
       "</style>\n",
       "<table border=\"1\" class=\"dataframe\">\n",
       "  <thead>\n",
       "    <tr style=\"text-align: right;\">\n",
       "      <th></th>\n",
       "      <th>adv_name</th>\n",
       "      <th>sale</th>\n",
       "      <th>view_count</th>\n",
       "      <th>click_count</th>\n",
       "      <th>first_month_clients_count</th>\n",
       "      <th>second_month_clients_count</th>\n",
       "      <th>third_month_clients_count</th>\n",
       "      <th>first_month_orders_count</th>\n",
       "      <th>first_month_aov</th>\n",
       "      <th>second_month_aov</th>\n",
       "      <th>third_month_aov</th>\n",
       "      <th>first_month_ctr</th>\n",
       "      <th>first_month_cr</th>\n",
       "      <th>first_month_revenue</th>\n",
       "      <th>second_month_orders_count</th>\n",
       "      <th>third_month_orders_count</th>\n",
       "    </tr>\n",
       "  </thead>\n",
       "  <tbody>\n",
       "    <tr>\n",
       "      <th>0</th>\n",
       "      <td>А_android</td>\n",
       "      <td>500</td>\n",
       "      <td>3000000</td>\n",
       "      <td>25130</td>\n",
       "      <td>1560</td>\n",
       "      <td>374</td>\n",
       "      <td>78</td>\n",
       "      <td>345</td>\n",
       "      <td>8425</td>\n",
       "      <td>4212.5</td>\n",
       "      <td>4212.5</td>\n",
       "      <td>1.0</td>\n",
       "      <td>1.0</td>\n",
       "      <td>2734125</td>\n",
       "      <td>83.0</td>\n",
       "      <td>17.0</td>\n",
       "    </tr>\n",
       "    <tr>\n",
       "      <th>1</th>\n",
       "      <td>Б_iphone</td>\n",
       "      <td>800</td>\n",
       "      <td>3000000</td>\n",
       "      <td>23750</td>\n",
       "      <td>1345</td>\n",
       "      <td>94</td>\n",
       "      <td>27</td>\n",
       "      <td>285</td>\n",
       "      <td>10875</td>\n",
       "      <td>5437.5</td>\n",
       "      <td>5437.5</td>\n",
       "      <td>1.0</td>\n",
       "      <td>1.0</td>\n",
       "      <td>2871375</td>\n",
       "      <td>20.0</td>\n",
       "      <td>6.0</td>\n",
       "    </tr>\n",
       "  </tbody>\n",
       "</table>\n",
       "</div>"
      ],
      "text/plain": [
       "    adv_name  sale  view_count  click_count  first_month_clients_count  \\\n",
       "0  А_android   500     3000000        25130                       1560   \n",
       "1   Б_iphone   800     3000000        23750                       1345   \n",
       "\n",
       "   second_month_clients_count  third_month_clients_count  \\\n",
       "0                         374                         78   \n",
       "1                          94                         27   \n",
       "\n",
       "   first_month_orders_count  first_month_aov  second_month_aov  \\\n",
       "0                       345             8425            4212.5   \n",
       "1                       285            10875            5437.5   \n",
       "\n",
       "   third_month_aov  first_month_ctr  first_month_cr  first_month_revenue  \\\n",
       "0           4212.5              1.0             1.0              2734125   \n",
       "1           5437.5              1.0             1.0              2871375   \n",
       "\n",
       "   second_month_orders_count  third_month_orders_count  \n",
       "0                       83.0                      17.0  \n",
       "1                       20.0                       6.0  "
      ]
     },
     "execution_count": 59,
     "metadata": {},
     "output_type": "execute_result"
    }
   ],
   "source": [
    "df"
   ]
  },
  {
   "cell_type": "code",
   "execution_count": 27,
   "id": "2d83f9fc",
   "metadata": {
    "scrolled": false
   },
   "outputs": [],
   "source": [
    "# Рассчитаем предполагаемый доход за 2 и 3 месяц по когортам\n",
    "\n",
    "df = df.assign(second_month_revenue = df.second_month_orders_count * df.second_month_aov)\n",
    "df = df.assign(third_month_revenue = df.third_month_orders_count * df.third_month_aov)\n",
    "df = df.assign(total_revenue = df.first_month_revenue + df.second_month_revenue + df.third_month_revenue)\n"
   ]
  },
  {
   "cell_type": "code",
   "execution_count": 28,
   "id": "9434442c",
   "metadata": {
    "scrolled": false
   },
   "outputs": [
    {
     "data": {
      "text/html": [
       "<div>\n",
       "<style scoped>\n",
       "    .dataframe tbody tr th:only-of-type {\n",
       "        vertical-align: middle;\n",
       "    }\n",
       "\n",
       "    .dataframe tbody tr th {\n",
       "        vertical-align: top;\n",
       "    }\n",
       "\n",
       "    .dataframe thead th {\n",
       "        text-align: right;\n",
       "    }\n",
       "</style>\n",
       "<table border=\"1\" class=\"dataframe\">\n",
       "  <thead>\n",
       "    <tr style=\"text-align: right;\">\n",
       "      <th></th>\n",
       "      <th>first_month_revenue</th>\n",
       "      <th>second_month_revenue</th>\n",
       "      <th>third_month_revenue</th>\n",
       "      <th>total_revenue</th>\n",
       "    </tr>\n",
       "    <tr>\n",
       "      <th>adv_name</th>\n",
       "      <th></th>\n",
       "      <th></th>\n",
       "      <th></th>\n",
       "      <th></th>\n",
       "    </tr>\n",
       "  </thead>\n",
       "  <tbody>\n",
       "    <tr>\n",
       "      <th>А_android</th>\n",
       "      <td>2734125</td>\n",
       "      <td>349637.5</td>\n",
       "      <td>71612.5</td>\n",
       "      <td>3155375.0</td>\n",
       "    </tr>\n",
       "    <tr>\n",
       "      <th>Б_iphone</th>\n",
       "      <td>2871375</td>\n",
       "      <td>108750.0</td>\n",
       "      <td>32625.0</td>\n",
       "      <td>3012750.0</td>\n",
       "    </tr>\n",
       "  </tbody>\n",
       "</table>\n",
       "</div>"
      ],
      "text/plain": [
       "           first_month_revenue  second_month_revenue  third_month_revenue  \\\n",
       "adv_name                                                                    \n",
       "А_android              2734125              349637.5              71612.5   \n",
       "Б_iphone               2871375              108750.0              32625.0   \n",
       "\n",
       "           total_revenue  \n",
       "adv_name                  \n",
       "А_android      3155375.0  \n",
       "Б_iphone       3012750.0  "
      ]
     },
     "execution_count": 28,
     "metadata": {},
     "output_type": "execute_result"
    }
   ],
   "source": [
    "revenue_data = df[['adv_name', 'first_month_revenue', 'second_month_revenue', 'third_month_revenue', 'total_revenue']] \\\n",
    "    .set_index('adv_name')\n",
    "revenue_data"
   ]
  },
  {
   "cell_type": "code",
   "execution_count": 29,
   "id": "563c18ae",
   "metadata": {},
   "outputs": [],
   "source": [
    "# Видим, что суммарно за 3 месяца пользователи когорты А принесли больше денег, чем пользователи из когорты Б"
   ]
  },
  {
   "cell_type": "code",
   "execution_count": 30,
   "id": "2879702b",
   "metadata": {},
   "outputs": [
    {
     "data": {
      "image/png": "[encoded data removed]",
      "text/plain": [
       "<Figure size 1600x700 with 1 Axes>"
      ]
     },
     "metadata": {},
     "output_type": "display_data"
    }
   ],
   "source": [
    "revenue_data[[ 'first_month_revenue', 'second_month_revenue', 'third_month_revenue']] \\\n",
    "    .plot(kind='bar', title = 'Распределение дохода по месяцам\\n')\n",
    "plt.ylabel(\"млн. руб.\")\n",
    "plt.xlabel(\"Когорта\")\n",
    "plt.xticks(rotation=0)\n",
    "plt.show()\n"
   ]
  },
  {
   "cell_type": "code",
   "execution_count": 31,
   "id": "c91752e2",
   "metadata": {},
   "outputs": [
    {
     "data": {
      "image/png": "[encoded data removed]",
      "text/plain": [
       "<Figure size 1600x700 with 1 Axes>"
      ]
     },
     "metadata": {},
     "output_type": "display_data"
    }
   ],
   "source": [
    "revenue_data[[ 'total_revenue']] \\\n",
    "    .plot(kind='pie', title = 'Доля каждой когорты в доходе за 3 месяца\\n',subplots=True,\n",
    "    autopct=\"%.2f\"\n",
    "    )\n",
    "plt.show()"
   ]
  },
  {
   "cell_type": "markdown",
   "id": "18aad835",
   "metadata": {},
   "source": [
    "#### Видим, что за три месяца :\n",
    "* когорта А принесла доход больше, чем когорта Б\n",
    "* доход во второй и третий месяц значительно снижается в обеих когортах\n",
    "* несмотря на меньший доход в первом месяце на дистанции в 3 месяца более выгодной оказался баннер для android\n"
   ]
  },
  {
   "cell_type": "markdown",
   "id": "c9126f2a",
   "metadata": {},
   "source": [
    "#### Выводы :\n",
    "1. Какой вариант баннера оказался лучше в первый месяц? - Вариант Б, баннер для iphone\n",
    "2. Какие метрики показывают это? total revenue. Конверсия на всех этапах воронки выше в когорте А, но средний чек сыграл важную роль и даже несмотря на большую скидку, пользователи с iphone принесли больший доход за 1 месяц\n",
    "3. Подтвердилась ли гипотеза, что повышенная скидка на первый заказ для пользователей iphone принесет больше продаж по результатам первого месяца? - Подтвердилась \n",
    "4. Какая когорта клиентов, установивших приложение в первый месяц, более ценная для маркетплейса по результатам трех месяцев - это клиенты с  iPhone или с Android? - На дистанции в 3 месяца чуть более выгодной стала когорта А пользоватлей android"
   ]
  },
  {
   "cell_type": "code",
   "execution_count": 36,
   "id": "76cd5f3f",
   "metadata": {},
   "outputs": [],
   "source": [
    "df.to_csv('tvil-test.csv')"
   ]
  },
  {
   "cell_type": "code",
   "execution_count": 58,
   "id": "f2a9822e",
   "metadata": {},
   "outputs": [
    {
     "data": {
      "text/html": [
       "<div>\n",
       "<style scoped>\n",
       "    .dataframe tbody tr th:only-of-type {\n",
       "        vertical-align: middle;\n",
       "    }\n",
       "\n",
       "    .dataframe tbody tr th {\n",
       "        vertical-align: top;\n",
       "    }\n",
       "\n",
       "    .dataframe thead th {\n",
       "        text-align: right;\n",
       "    }\n",
       "</style>\n",
       "<table border=\"1\" class=\"dataframe\">\n",
       "  <thead>\n",
       "    <tr style=\"text-align: right;\">\n",
       "      <th></th>\n",
       "      <th>adv_name</th>\n",
       "      <th>sale</th>\n",
       "      <th>view_count</th>\n",
       "      <th>click_count</th>\n",
       "      <th>first_month_clients_count</th>\n",
       "      <th>second_month_clients_count</th>\n",
       "      <th>third_month_clients_count</th>\n",
       "      <th>first_month_orders_count</th>\n",
       "      <th>first_month_aov</th>\n",
       "      <th>second_month_aov</th>\n",
       "      <th>third_month_aov</th>\n",
       "      <th>first_month_ctr</th>\n",
       "      <th>first_month_cr</th>\n",
       "      <th>first_month_revenue</th>\n",
       "      <th>second_month_orders_count</th>\n",
       "      <th>third_month_orders_count</th>\n",
       "    </tr>\n",
       "  </thead>\n",
       "  <tbody>\n",
       "    <tr>\n",
       "      <th>0</th>\n",
       "      <td>А_android</td>\n",
       "      <td>500</td>\n",
       "      <td>3000000</td>\n",
       "      <td>25130</td>\n",
       "      <td>1560</td>\n",
       "      <td>374</td>\n",
       "      <td>78</td>\n",
       "      <td>345</td>\n",
       "      <td>8425</td>\n",
       "      <td>4212.5</td>\n",
       "      <td>4212.5</td>\n",
       "      <td>1.0</td>\n",
       "      <td>1.0</td>\n",
       "      <td>2734125</td>\n",
       "      <td>83.0</td>\n",
       "      <td>17.0</td>\n",
       "    </tr>\n",
       "    <tr>\n",
       "      <th>1</th>\n",
       "      <td>Б_iphone</td>\n",
       "      <td>800</td>\n",
       "      <td>3000000</td>\n",
       "      <td>23750</td>\n",
       "      <td>1345</td>\n",
       "      <td>94</td>\n",
       "      <td>27</td>\n",
       "      <td>285</td>\n",
       "      <td>10875</td>\n",
       "      <td>5437.5</td>\n",
       "      <td>5437.5</td>\n",
       "      <td>1.0</td>\n",
       "      <td>1.0</td>\n",
       "      <td>2871375</td>\n",
       "      <td>20.0</td>\n",
       "      <td>6.0</td>\n",
       "    </tr>\n",
       "  </tbody>\n",
       "</table>\n",
       "</div>"
      ],
      "text/plain": [
       "    adv_name  sale  view_count  click_count  first_month_clients_count  \\\n",
       "0  А_android   500     3000000        25130                       1560   \n",
       "1   Б_iphone   800     3000000        23750                       1345   \n",
       "\n",
       "   second_month_clients_count  third_month_clients_count  \\\n",
       "0                         374                         78   \n",
       "1                          94                         27   \n",
       "\n",
       "   first_month_orders_count  first_month_aov  second_month_aov  \\\n",
       "0                       345             8425            4212.5   \n",
       "1                       285            10875            5437.5   \n",
       "\n",
       "   third_month_aov  first_month_ctr  first_month_cr  first_month_revenue  \\\n",
       "0           4212.5              1.0             1.0              2734125   \n",
       "1           5437.5              1.0             1.0              2871375   \n",
       "\n",
       "   second_month_orders_count  third_month_orders_count  \n",
       "0                       83.0                      17.0  \n",
       "1                       20.0                       6.0  "
      ]
     },
     "execution_count": 58,
     "metadata": {},
     "output_type": "execute_result"
    }
   ],
   "source": [
    "df"
   ]
  },
  {
   "cell_type": "code",
   "execution_count": null,
   "id": "4ec346c0",
   "metadata": {},
   "outputs": [],
   "source": []
  }
 ],
 "metadata": {
  "kernelspec": {
   "display_name": "Python 3 (ipykernel)",
   "language": "python",
   "name": "python3"
  },
  "language_info": {
   "codemirror_mode": {
    "name": "ipython",
    "version": 3
   },
   "file_extension": ".py",
   "mimetype": "text/x-python",
   "name": "python",
   "nbconvert_exporter": "python",
   "pygments_lexer": "ipython3",
   "version": "3.9.13"
  }
 },
 "nbformat": 4,
 "nbformat_minor": 5
}
